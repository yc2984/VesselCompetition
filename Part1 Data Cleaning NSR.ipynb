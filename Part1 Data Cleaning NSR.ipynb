{
 "cells": [
  {
   "cell_type": "code",
   "execution_count": 423,
   "metadata": {},
   "outputs": [],
   "source": [
    "import numpy as np\n",
    "import pandas as pd\n",
    "import re"
   ]
  },
  {
   "cell_type": "code",
   "execution_count": 424,
   "metadata": {},
   "outputs": [
    {
     "data": {
      "text/plain": [
       "<filter at 0x1d728748>"
      ]
     },
     "execution_count": 424,
     "metadata": {},
     "output_type": "execute_result"
    }
   ],
   "source": [
    "# clean out the non ascii strings.\n",
    "import string\n",
    "s = 'northwestpassage.txt'\n",
    "printable = set(string.printable)\n",
    "filter(lambda x: x in printable, s)"
   ]
  },
  {
   "cell_type": "code",
   "execution_count": 425,
   "metadata": {},
   "outputs": [],
   "source": [
    "fh = open('northwestpassage.txt', 'r')\n",
    "data = fh.readlines()"
   ]
  },
  {
   "cell_type": "code",
   "execution_count": 426,
   "metadata": {},
   "outputs": [],
   "source": [
    "#store the data ina serie\n",
    "data_Series = pd.Series(data)"
   ]
  },
  {
   "cell_type": "markdown",
   "metadata": {},
   "source": [
    "#### Alternative way\n",
    "import csv\n",
    "with open('northwestpassage.txt', 'r') as csvfile:\n",
    "    spamreader = csv.reader(csvfile, delimiter=' ', quotechar='|')\n",
    "    for row in spamreader:\n",
    "        print(', '.join(row))"
   ]
  },
  {
   "cell_type": "markdown",
   "metadata": {},
   "source": [
    "Using regular expression to extract the featured lines"
   ]
  },
  {
   "cell_type": "code",
   "execution_count": 427,
   "metadata": {},
   "outputs": [],
   "source": [
    "import re\n",
    "def get_vessel_info(string,pattern,n):\n",
    "    result = re.search(pattern,string)\n",
    "    if result:\n",
    "        return result.group(n)\n",
    "    return ''"
   ]
  },
  {
   "cell_type": "code",
   "execution_count": 428,
   "metadata": {},
   "outputs": [
    {
     "name": "stdout",
     "output_type": "stream",
     "text": [
      "0           \n",
      "1           \n",
      "2     West 4\n",
      "3           \n",
      "4           \n",
      "5           \n",
      "6    East  6\n",
      "7           \n",
      "8           \n",
      "9           \n",
      "dtype: object\n",
      "0                                                     \n",
      "1                                                     \n",
      "2    1 GjÃ¸a (21 m auxiliary sloop) Norway1 Roald E...\n",
      "3                                                     \n",
      "4                                                     \n",
      "5                                                     \n",
      "6    2 St Roch1 (29Â·7 m auxiliary schooner) Canada...\n",
      "7                                                     \n",
      "8                                                     \n",
      "9                                                     \n",
      "dtype: object\n",
      "591\n",
      "591\n"
     ]
    }
   ],
   "source": [
    "#use the first regular expresion to extract the full information of each visit and the route of each visit. \n",
    "visits = data_Series.apply(lambda x:get_vessel_info(x,pattern='([0-9]{1,3}\\s{1}.+((West|East)\\s+\\d+))',n=1))\n",
    "routes = data_Series.apply(lambda x:get_vessel_info(x,pattern='([0-9]{1,3}\\s{1}.+((West|East)\\s+\\d+))', n=2))\n",
    "print(routes.head(10))\n",
    "print(visits.head(10))\n",
    "print(len(routes))\n",
    "print(len(visits))"
   ]
  },
  {
   "cell_type": "code",
   "execution_count": 429,
   "metadata": {},
   "outputs": [
    {
     "data": {
      "text/plain": [
       "[nan,\n",
       " nan,\n",
       " '1 GjÃ¸a (21 m auxiliary sloop) Norway1 Roald Engelbregt Gravning Amundsen West 4',\n",
       " nan,\n",
       " nan,\n",
       " nan,\n",
       " '2 St Roch1 (29Â·7 m auxiliary schooner) Canada1 Henry AsbjÃ¸rn Larsen1  East  6',\n",
       " nan,\n",
       " nan,\n",
       " nan]"
      ]
     },
     "execution_count": 429,
     "metadata": {},
     "output_type": "execute_result"
    }
   ],
   "source": [
    "#clean up the empty entries by removing NaN\n",
    "visits2 = [x if len(x)>2 else np.NaN for x in visits]\n",
    "visits2[:10]"
   ]
  },
  {
   "cell_type": "code",
   "execution_count": 430,
   "metadata": {},
   "outputs": [
    {
     "data": {
      "text/plain": [
       "['1 GjÃ¸a (21 m auxiliary sloop) Norway1 Roald Engelbregt Gravning Amundsen West 4',\n",
       " '2 St Roch1 (29Â·7 m auxiliary schooner) Canada1 Henry AsbjÃ¸rn Larsen1  East  6',\n",
       " '3 St Roch2 (29Â·7 m auxiliary schooner) Canada2 Henry AsbjÃ¸rn Larsen2  West 2',\n",
       " '4 HMCS Labrador (icebreaker) Canada3 Owen Connor Struan Robertson  West 2',\n",
       " '5 USCGC Bramble (buoy tender) UnitedStates1 Henry Hart Carter East  6',\n",
       " '6 USCGC Spar (buoy tender) UnitedStates2 Charles Vinal Cowing  East  6',\n",
       " '7 USCGC Storis (icebreaker) UnitedStates3 Harold Lambert Wood  East  6',\n",
       " '8 CCGS John A. McDonald (icebreaker) Canada4 Paul Moise Fournier  West 3',\n",
       " '9 USCGC Northwind1 (icebreaker) UnitedStates4 Donald J. McCann1  East  5',\n",
       " '10 USCGC Northwind2 (icebreaker) UnitedStates5 Donald J. McCann2  West 3',\n",
       " '11 USCGC Staten Island (icebreaker) UnitedStates6 Eugene F. Walsh  East  2',\n",
       " '12 CSS Baffin (research icebreaker) Canada5 Paul M. Brick  East  2',\n",
       " '13 CSS Hudson1 (research icebreaker) Canada6 David W. Butler  East  2',\n",
       " '14 Pandora II1 (hydrographic vessel) Canada7 R. Dickinson  East  7',\n",
       " '15 Theta (research vessel) Canada8 K. Maro  East  7',\n",
       " '16 CSS Skidgate (buoy tender) Canada9 Peter Kallis  East  6',\n",
       " '17 CCGS J. E. Bernier1 (icebreaker) Canada10 Paul Pelland  East  3',\n",
       " '18 Williwaw (13 m sloop) Netherlands1 Willy de Roos  West 4',\n",
       " '19 CCGS Pierre Radisson (icebreaker) Canada11 Patrick Robert Michael Toomey  East  2',\n",
       " '20 J. E. Bernier II (10 m ketch) Canada12 RÃ©al Bouvier  West 4']"
      ]
     },
     "execution_count": 430,
     "metadata": {},
     "output_type": "execute_result"
    }
   ],
   "source": [
    "visits_cleaned = list(filter(lambda v: v==v, visits2))\n",
    "visits_cleaned[:20]"
   ]
  },
  {
   "cell_type": "code",
   "execution_count": 431,
   "metadata": {},
   "outputs": [
    {
     "data": {
      "text/plain": [
       "591"
      ]
     },
     "execution_count": 431,
     "metadata": {},
     "output_type": "execute_result"
    }
   ],
   "source": [
    "#do the same for routes column\n",
    "routes2 = [x if len(x)>2 else np.NaN for x in routes]\n",
    "len(routes)"
   ]
  },
  {
   "cell_type": "code",
   "execution_count": 432,
   "metadata": {},
   "outputs": [
    {
     "data": {
      "text/plain": [
       "['West 4',\n",
       " 'East  6',\n",
       " 'West 2',\n",
       " 'West 2',\n",
       " 'East  6',\n",
       " 'East  6',\n",
       " 'East  6',\n",
       " 'West 3',\n",
       " 'East  5',\n",
       " 'West 3',\n",
       " 'East  2',\n",
       " 'East  2',\n",
       " 'East  2',\n",
       " 'East  7',\n",
       " 'East  7',\n",
       " 'East  6',\n",
       " 'East  3',\n",
       " 'West 4',\n",
       " 'East  2',\n",
       " 'West 4']"
      ]
     },
     "execution_count": 432,
     "metadata": {},
     "output_type": "execute_result"
    }
   ],
   "source": [
    "routes_cleaned = list(filter(lambda v: v==v, routes2)) #learned how to use filter and convert it to a list. and the property of np.NAN\n",
    "routes_cleaned[:20]"
   ]
  },
  {
   "cell_type": "code",
   "execution_count": 433,
   "metadata": {},
   "outputs": [
    {
     "name": "stdout",
     "output_type": "stream",
     "text": [
      "283\n",
      "283\n"
     ]
    },
    {
     "data": {
      "text/plain": [
       "['East  6',\n",
       " 'West 6',\n",
       " 'West 4',\n",
       " 'East  6',\n",
       " 'West 6',\n",
       " 'East  3',\n",
       " 'West 6',\n",
       " 'East  6',\n",
       " 'West 6',\n",
       " 'East  6',\n",
       " 'East  3',\n",
       " 'East  6',\n",
       " 'East  5',\n",
       " 'West 3',\n",
       " 'East  6',\n",
       " 'West 6',\n",
       " 'East  5',\n",
       " 'West 6',\n",
       " 'West 3',\n",
       " 'West 6']"
      ]
     },
     "execution_count": 433,
     "metadata": {},
     "output_type": "execute_result"
    }
   ],
   "source": [
    "#check the length of cleaned data\n",
    "print(len(visits_cleaned))\n",
    "print(len(routes_cleaned)) # 4 is missing, because in total there are 287 times visit\n",
    "routes_cleaned[-20:]"
   ]
  },
  {
   "cell_type": "code",
   "execution_count": 434,
   "metadata": {},
   "outputs": [
    {
     "data": {
      "text/plain": [
       "0    1 GjÃ¸a (21 m auxiliary sloop) Norway1 Roald E...\n",
       "1    2 St Roch1 (29Â·7 m auxiliary schooner) Canada...\n",
       "2    3 St Roch2 (29Â·7 m auxiliary schooner) Canada...\n",
       "3    4 HMCS Labrador (icebreaker) Canada3 Owen Conn...\n",
       "4    5 USCGC Bramble (buoy tender) UnitedStates1 He...\n",
       "5    6 USCGC Spar (buoy tender) UnitedStates2 Charl...\n",
       "6    7 USCGC Storis (icebreaker) UnitedStates3 Haro...\n",
       "7    8 CCGS John A. McDonald (icebreaker) Canada4 P...\n",
       "8    9 USCGC Northwind1 (icebreaker) UnitedStates4 ...\n",
       "9    10 USCGC Northwind2 (icebreaker) UnitedStates5...\n",
       "dtype: object"
      ]
     },
     "execution_count": 434,
     "metadata": {},
     "output_type": "execute_result"
    }
   ],
   "source": [
    "#prepare for the second time extraction with regular expression\n",
    "df_temp = pd.Series(visits_cleaned)\n",
    "df_temp[:10]"
   ]
  },
  {
   "cell_type": "code",
   "execution_count": 435,
   "metadata": {},
   "outputs": [],
   "source": [
    "name = df_temp.apply(lambda x:get_vessel_info(x,pattern='(^([0-9]+\\s+)(.*)\\s\\((.*)\\))\\s([a-zA-Z]+)', n=3))\n",
    "Type = df_temp.apply(lambda x:get_vessel_info(x,pattern='(^([0-9]+\\s+)(.*)\\s\\((.*)\\))\\s([a-zA-Z]+)', n=4))\n",
    "Number = df_temp.apply(lambda x:get_vessel_info(x,pattern='(^([0-9]+\\s+)(.*)\\s\\((.*)\\))\\s([a-zA-Z]+)', n=2))\n",
    "country = df_temp.apply(lambda x:get_vessel_info(x,pattern='(^([0-9]+\\s+)(.*)\\s\\((.*)\\))\\s([a-zA-Z]+)', n=5))"
   ]
  },
  {
   "cell_type": "code",
   "execution_count": 436,
   "metadata": {
    "scrolled": false
   },
   "outputs": [
    {
     "name": "stdout",
     "output_type": "stream",
     "text": [
      "0                    GjÃ¸a\n",
      "1                 St Roch1\n",
      "2                 St Roch2\n",
      "3            HMCS Labrador\n",
      "4            USCGC Bramble\n",
      "5               USCGC Spar\n",
      "6             USCGC Storis\n",
      "7    CCGS John A. McDonald\n",
      "8         USCGC Northwind1\n",
      "9         USCGC Northwind2\n",
      "dtype: object\n",
      "283 283 283 283\n"
     ]
    }
   ],
   "source": [
    "print(name[:10])\n",
    "print(len(name),len(Type),len(Number),len(country))"
   ]
  },
  {
   "cell_type": "code",
   "execution_count": 437,
   "metadata": {},
   "outputs": [
    {
     "name": "stdout",
     "output_type": "stream",
     "text": [
      "283\n"
     ]
    }
   ],
   "source": [
    "df = pd.DataFrame({'Number':Number,'name':name,'country':country,'routes':routes_cleaned,'Type':Type})\n",
    "df.head(20)\n",
    "print(len(df))"
   ]
  },
  {
   "cell_type": "markdown",
   "metadata": {},
   "source": [
    "### Extract year by forward filling"
   ]
  },
  {
   "cell_type": "code",
   "execution_count": 438,
   "metadata": {},
   "outputs": [
    {
     "name": "stdout",
     "output_type": "stream",
     "text": [
      "0            \n",
      "1     1903-06\n",
      "2            \n",
      "3            \n",
      "4            \n",
      "5     1940-42\n",
      "6            \n",
      "7            \n",
      "8            \n",
      "9        1944\n",
      "10           \n",
      "11           \n",
      "12           \n",
      "13       1954\n",
      "14           \n",
      "dtype: object\n",
      "591\n"
     ]
    }
   ],
   "source": [
    "year = data_Series.apply(lambda x: get_vessel_info(x,pattern='^(\\d{4}(-\\d+)*)',n = 1))\n",
    "print(year.head(15))\n",
    "print(len(year))"
   ]
  },
  {
   "cell_type": "code",
   "execution_count": 439,
   "metadata": {},
   "outputs": [],
   "source": [
    "year = year.apply(lambda x: np.NaN if len(x)<1 else x)"
   ]
  },
  {
   "cell_type": "code",
   "execution_count": 440,
   "metadata": {},
   "outputs": [
    {
     "data": {
      "text/html": [
       "<div>\n",
       "<style scoped>\n",
       "    .dataframe tbody tr th:only-of-type {\n",
       "        vertical-align: middle;\n",
       "    }\n",
       "\n",
       "    .dataframe tbody tr th {\n",
       "        vertical-align: top;\n",
       "    }\n",
       "\n",
       "    .dataframe thead th {\n",
       "        text-align: right;\n",
       "    }\n",
       "</style>\n",
       "<table border=\"1\" class=\"dataframe\">\n",
       "  <thead>\n",
       "    <tr style=\"text-align: right;\">\n",
       "      <th></th>\n",
       "      <th>Visits</th>\n",
       "      <th>Year</th>\n",
       "    </tr>\n",
       "  </thead>\n",
       "  <tbody>\n",
       "    <tr>\n",
       "      <th>0</th>\n",
       "      <td>NaN</td>\n",
       "      <td>NaN</td>\n",
       "    </tr>\n",
       "    <tr>\n",
       "      <th>1</th>\n",
       "      <td>NaN</td>\n",
       "      <td>1903-06</td>\n",
       "    </tr>\n",
       "    <tr>\n",
       "      <th>2</th>\n",
       "      <td>1 GjÃ¸a (21 m auxiliary sloop) Norway1 Roald E...</td>\n",
       "      <td>NaN</td>\n",
       "    </tr>\n",
       "    <tr>\n",
       "      <th>3</th>\n",
       "      <td>NaN</td>\n",
       "      <td>NaN</td>\n",
       "    </tr>\n",
       "    <tr>\n",
       "      <th>4</th>\n",
       "      <td>NaN</td>\n",
       "      <td>NaN</td>\n",
       "    </tr>\n",
       "    <tr>\n",
       "      <th>5</th>\n",
       "      <td>NaN</td>\n",
       "      <td>1940-42</td>\n",
       "    </tr>\n",
       "    <tr>\n",
       "      <th>6</th>\n",
       "      <td>2 St Roch1 (29Â·7 m auxiliary schooner) Canada...</td>\n",
       "      <td>NaN</td>\n",
       "    </tr>\n",
       "    <tr>\n",
       "      <th>7</th>\n",
       "      <td>NaN</td>\n",
       "      <td>NaN</td>\n",
       "    </tr>\n",
       "    <tr>\n",
       "      <th>8</th>\n",
       "      <td>NaN</td>\n",
       "      <td>NaN</td>\n",
       "    </tr>\n",
       "    <tr>\n",
       "      <th>9</th>\n",
       "      <td>NaN</td>\n",
       "      <td>1944</td>\n",
       "    </tr>\n",
       "    <tr>\n",
       "      <th>10</th>\n",
       "      <td>3 St Roch2 (29Â·7 m auxiliary schooner) Canada...</td>\n",
       "      <td>NaN</td>\n",
       "    </tr>\n",
       "    <tr>\n",
       "      <th>11</th>\n",
       "      <td>NaN</td>\n",
       "      <td>NaN</td>\n",
       "    </tr>\n",
       "    <tr>\n",
       "      <th>12</th>\n",
       "      <td>NaN</td>\n",
       "      <td>NaN</td>\n",
       "    </tr>\n",
       "    <tr>\n",
       "      <th>13</th>\n",
       "      <td>NaN</td>\n",
       "      <td>1954</td>\n",
       "    </tr>\n",
       "    <tr>\n",
       "      <th>14</th>\n",
       "      <td>4 HMCS Labrador (icebreaker) Canada3 Owen Conn...</td>\n",
       "      <td>NaN</td>\n",
       "    </tr>\n",
       "    <tr>\n",
       "      <th>15</th>\n",
       "      <td>NaN</td>\n",
       "      <td>NaN</td>\n",
       "    </tr>\n",
       "    <tr>\n",
       "      <th>16</th>\n",
       "      <td>NaN</td>\n",
       "      <td>NaN</td>\n",
       "    </tr>\n",
       "    <tr>\n",
       "      <th>17</th>\n",
       "      <td>NaN</td>\n",
       "      <td>1957</td>\n",
       "    </tr>\n",
       "    <tr>\n",
       "      <th>18</th>\n",
       "      <td>5 USCGC Bramble (buoy tender) UnitedStates1 He...</td>\n",
       "      <td>NaN</td>\n",
       "    </tr>\n",
       "    <tr>\n",
       "      <th>19</th>\n",
       "      <td>6 USCGC Spar (buoy tender) UnitedStates2 Charl...</td>\n",
       "      <td>NaN</td>\n",
       "    </tr>\n",
       "  </tbody>\n",
       "</table>\n",
       "</div>"
      ],
      "text/plain": [
       "                                               Visits     Year\n",
       "0                                                 NaN      NaN\n",
       "1                                                 NaN  1903-06\n",
       "2   1 GjÃ¸a (21 m auxiliary sloop) Norway1 Roald E...      NaN\n",
       "3                                                 NaN      NaN\n",
       "4                                                 NaN      NaN\n",
       "5                                                 NaN  1940-42\n",
       "6   2 St Roch1 (29Â·7 m auxiliary schooner) Canada...      NaN\n",
       "7                                                 NaN      NaN\n",
       "8                                                 NaN      NaN\n",
       "9                                                 NaN     1944\n",
       "10  3 St Roch2 (29Â·7 m auxiliary schooner) Canada...      NaN\n",
       "11                                                NaN      NaN\n",
       "12                                                NaN      NaN\n",
       "13                                                NaN     1954\n",
       "14  4 HMCS Labrador (icebreaker) Canada3 Owen Conn...      NaN\n",
       "15                                                NaN      NaN\n",
       "16                                                NaN      NaN\n",
       "17                                                NaN     1957\n",
       "18  5 USCGC Bramble (buoy tender) UnitedStates1 He...      NaN\n",
       "19  6 USCGC Spar (buoy tender) UnitedStates2 Charl...      NaN"
      ]
     },
     "execution_count": 440,
     "metadata": {},
     "output_type": "execute_result"
    }
   ],
   "source": [
    "#Filling in the data based on the index of the entries of each visit.\n",
    "df_year_visits = pd.DataFrame({'Year':year,'Visits':visits2})\n",
    "df_year_visits.head(20)"
   ]
  },
  {
   "cell_type": "code",
   "execution_count": 441,
   "metadata": {},
   "outputs": [
    {
     "data": {
      "text/html": [
       "<div>\n",
       "<style scoped>\n",
       "    .dataframe tbody tr th:only-of-type {\n",
       "        vertical-align: middle;\n",
       "    }\n",
       "\n",
       "    .dataframe tbody tr th {\n",
       "        vertical-align: top;\n",
       "    }\n",
       "\n",
       "    .dataframe thead th {\n",
       "        text-align: right;\n",
       "    }\n",
       "</style>\n",
       "<table border=\"1\" class=\"dataframe\">\n",
       "  <thead>\n",
       "    <tr style=\"text-align: right;\">\n",
       "      <th></th>\n",
       "      <th>Visits</th>\n",
       "      <th>Year</th>\n",
       "    </tr>\n",
       "  </thead>\n",
       "  <tbody>\n",
       "    <tr>\n",
       "      <th>0</th>\n",
       "      <td>NaN</td>\n",
       "      <td>NaN</td>\n",
       "    </tr>\n",
       "    <tr>\n",
       "      <th>1</th>\n",
       "      <td>NaN</td>\n",
       "      <td>1903-06</td>\n",
       "    </tr>\n",
       "    <tr>\n",
       "      <th>2</th>\n",
       "      <td>1 GjÃ¸a (21 m auxiliary sloop) Norway1 Roald E...</td>\n",
       "      <td>1903-06</td>\n",
       "    </tr>\n",
       "    <tr>\n",
       "      <th>3</th>\n",
       "      <td>NaN</td>\n",
       "      <td>1903-06</td>\n",
       "    </tr>\n",
       "    <tr>\n",
       "      <th>4</th>\n",
       "      <td>NaN</td>\n",
       "      <td>1903-06</td>\n",
       "    </tr>\n",
       "    <tr>\n",
       "      <th>5</th>\n",
       "      <td>NaN</td>\n",
       "      <td>1940-42</td>\n",
       "    </tr>\n",
       "    <tr>\n",
       "      <th>6</th>\n",
       "      <td>2 St Roch1 (29Â·7 m auxiliary schooner) Canada...</td>\n",
       "      <td>1940-42</td>\n",
       "    </tr>\n",
       "    <tr>\n",
       "      <th>7</th>\n",
       "      <td>NaN</td>\n",
       "      <td>1940-42</td>\n",
       "    </tr>\n",
       "    <tr>\n",
       "      <th>8</th>\n",
       "      <td>NaN</td>\n",
       "      <td>1940-42</td>\n",
       "    </tr>\n",
       "    <tr>\n",
       "      <th>9</th>\n",
       "      <td>NaN</td>\n",
       "      <td>1944</td>\n",
       "    </tr>\n",
       "    <tr>\n",
       "      <th>10</th>\n",
       "      <td>3 St Roch2 (29Â·7 m auxiliary schooner) Canada...</td>\n",
       "      <td>1944</td>\n",
       "    </tr>\n",
       "    <tr>\n",
       "      <th>11</th>\n",
       "      <td>NaN</td>\n",
       "      <td>1944</td>\n",
       "    </tr>\n",
       "    <tr>\n",
       "      <th>12</th>\n",
       "      <td>NaN</td>\n",
       "      <td>1944</td>\n",
       "    </tr>\n",
       "    <tr>\n",
       "      <th>13</th>\n",
       "      <td>NaN</td>\n",
       "      <td>1954</td>\n",
       "    </tr>\n",
       "    <tr>\n",
       "      <th>14</th>\n",
       "      <td>4 HMCS Labrador (icebreaker) Canada3 Owen Conn...</td>\n",
       "      <td>1954</td>\n",
       "    </tr>\n",
       "    <tr>\n",
       "      <th>15</th>\n",
       "      <td>NaN</td>\n",
       "      <td>1954</td>\n",
       "    </tr>\n",
       "    <tr>\n",
       "      <th>16</th>\n",
       "      <td>NaN</td>\n",
       "      <td>1954</td>\n",
       "    </tr>\n",
       "    <tr>\n",
       "      <th>17</th>\n",
       "      <td>NaN</td>\n",
       "      <td>1957</td>\n",
       "    </tr>\n",
       "    <tr>\n",
       "      <th>18</th>\n",
       "      <td>5 USCGC Bramble (buoy tender) UnitedStates1 He...</td>\n",
       "      <td>1957</td>\n",
       "    </tr>\n",
       "    <tr>\n",
       "      <th>19</th>\n",
       "      <td>6 USCGC Spar (buoy tender) UnitedStates2 Charl...</td>\n",
       "      <td>1957</td>\n",
       "    </tr>\n",
       "    <tr>\n",
       "      <th>20</th>\n",
       "      <td>7 USCGC Storis (icebreaker) UnitedStates3 Haro...</td>\n",
       "      <td>1957</td>\n",
       "    </tr>\n",
       "    <tr>\n",
       "      <th>21</th>\n",
       "      <td>NaN</td>\n",
       "      <td>1957</td>\n",
       "    </tr>\n",
       "    <tr>\n",
       "      <th>22</th>\n",
       "      <td>NaN</td>\n",
       "      <td>1957</td>\n",
       "    </tr>\n",
       "    <tr>\n",
       "      <th>23</th>\n",
       "      <td>NaN</td>\n",
       "      <td>1967</td>\n",
       "    </tr>\n",
       "    <tr>\n",
       "      <th>24</th>\n",
       "      <td>8 CCGS John A. McDonald (icebreaker) Canada4 P...</td>\n",
       "      <td>1967</td>\n",
       "    </tr>\n",
       "    <tr>\n",
       "      <th>25</th>\n",
       "      <td>NaN</td>\n",
       "      <td>1967</td>\n",
       "    </tr>\n",
       "    <tr>\n",
       "      <th>26</th>\n",
       "      <td>NaN</td>\n",
       "      <td>1967</td>\n",
       "    </tr>\n",
       "    <tr>\n",
       "      <th>27</th>\n",
       "      <td>NaN</td>\n",
       "      <td>1969</td>\n",
       "    </tr>\n",
       "    <tr>\n",
       "      <th>28</th>\n",
       "      <td>9 USCGC Northwind1 (icebreaker) UnitedStates4 ...</td>\n",
       "      <td>1969</td>\n",
       "    </tr>\n",
       "    <tr>\n",
       "      <th>29</th>\n",
       "      <td>10 USCGC Northwind2 (icebreaker) UnitedStates5...</td>\n",
       "      <td>1969</td>\n",
       "    </tr>\n",
       "    <tr>\n",
       "      <th>...</th>\n",
       "      <td>...</td>\n",
       "      <td>...</td>\n",
       "    </tr>\n",
       "    <tr>\n",
       "      <th>561</th>\n",
       "      <td>266 Kigdlua (12Â·8 m sloop) Greenland Jens Eri...</td>\n",
       "      <td>2017</td>\n",
       "    </tr>\n",
       "    <tr>\n",
       "      <th>562</th>\n",
       "      <td>267 Lady Free (12Â·4 m gaff cutter) Norway4 Ja...</td>\n",
       "      <td>2017</td>\n",
       "    </tr>\n",
       "    <tr>\n",
       "      <th>563</th>\n",
       "      <td>NaN</td>\n",
       "      <td>2017</td>\n",
       "    </tr>\n",
       "    <tr>\n",
       "      <th>564</th>\n",
       "      <td>268 Larissa (13Â·7 m cutter) NewZealand6 Mark ...</td>\n",
       "      <td>2017</td>\n",
       "    </tr>\n",
       "    <tr>\n",
       "      <th>565</th>\n",
       "      <td>269 Le Boreal2 (cruise vessel) France27 Erwin ...</td>\n",
       "      <td>2017</td>\n",
       "    </tr>\n",
       "    <tr>\n",
       "      <th>566</th>\n",
       "      <td>NaN</td>\n",
       "      <td>2017</td>\n",
       "    </tr>\n",
       "    <tr>\n",
       "      <th>567</th>\n",
       "      <td>270 Le Why (20 m schooner) France28 Ghisiain B...</td>\n",
       "      <td>2017</td>\n",
       "    </tr>\n",
       "    <tr>\n",
       "      <th>568</th>\n",
       "      <td>271 Ma Louloutte (6Â·3 catamaran)  France29 Yv...</td>\n",
       "      <td>2017</td>\n",
       "    </tr>\n",
       "    <tr>\n",
       "      <th>569</th>\n",
       "      <td>NaN</td>\n",
       "      <td>2017</td>\n",
       "    </tr>\n",
       "    <tr>\n",
       "      <th>570</th>\n",
       "      <td>272 MakorÃ© 2 (13Â·6 m yacht) France30 Paul Bu...</td>\n",
       "      <td>2017</td>\n",
       "    </tr>\n",
       "    <tr>\n",
       "      <th>571</th>\n",
       "      <td>273 USCGC Maple (buoy tender) UnitedStates31 P...</td>\n",
       "      <td>2017</td>\n",
       "    </tr>\n",
       "    <tr>\n",
       "      <th>572</th>\n",
       "      <td>NaN</td>\n",
       "      <td>2017</td>\n",
       "    </tr>\n",
       "    <tr>\n",
       "      <th>573</th>\n",
       "      <td>274 Morning Haze (16Â·9 m sloop) Germany8 Joch...</td>\n",
       "      <td>2017</td>\n",
       "    </tr>\n",
       "    <tr>\n",
       "      <th>574</th>\n",
       "      <td>275 Muktuk2 (14Â·3 sloop) Austria4 Karl Mayer2...</td>\n",
       "      <td>2017</td>\n",
       "    </tr>\n",
       "    <tr>\n",
       "      <th>575</th>\n",
       "      <td>276 Nauta D (16Â·5 m yacht) Germany9 Manfred H...</td>\n",
       "      <td>2017</td>\n",
       "    </tr>\n",
       "    <tr>\n",
       "      <th>576</th>\n",
       "      <td>277 Nehaj (11Â·9 m cutter) Germany10 Susanne H...</td>\n",
       "      <td>2017</td>\n",
       "    </tr>\n",
       "    <tr>\n",
       "      <th>577</th>\n",
       "      <td>NaN</td>\n",
       "      <td>2017</td>\n",
       "    </tr>\n",
       "    <tr>\n",
       "      <th>578</th>\n",
       "      <td>278 Nordica2 (multipurpose icebreaker) Finland...</td>\n",
       "      <td>2017</td>\n",
       "    </tr>\n",
       "    <tr>\n",
       "      <th>579</th>\n",
       "      <td>NaN</td>\n",
       "      <td>2017</td>\n",
       "    </tr>\n",
       "    <tr>\n",
       "      <th>580</th>\n",
       "      <td>279 Plum (21Â·9 m cutter) Malta Enrico Tettama...</td>\n",
       "      <td>2017</td>\n",
       "    </tr>\n",
       "    <tr>\n",
       "      <th>581</th>\n",
       "      <td>NaN</td>\n",
       "      <td>2017</td>\n",
       "    </tr>\n",
       "    <tr>\n",
       "      <th>582</th>\n",
       "      <td>280 Polar Bound7 (14Â·6 m motor boat) Britain2...</td>\n",
       "      <td>2017</td>\n",
       "    </tr>\n",
       "    <tr>\n",
       "      <th>583</th>\n",
       "      <td>281 Polar Prince2 (icebreaker) Canada47 Stepha...</td>\n",
       "      <td>2017</td>\n",
       "    </tr>\n",
       "    <tr>\n",
       "      <th>584</th>\n",
       "      <td>NaN</td>\n",
       "      <td>2017</td>\n",
       "    </tr>\n",
       "    <tr>\n",
       "      <th>585</th>\n",
       "      <td>282 Tiama (15Â·2 m sloop) NewZealand7 Hank Haa...</td>\n",
       "      <td>2017</td>\n",
       "    </tr>\n",
       "    <tr>\n",
       "      <th>586</th>\n",
       "      <td>283 Tonga (13Â·8 m yacht) France31 Franck Dela...</td>\n",
       "      <td>2017</td>\n",
       "    </tr>\n",
       "    <tr>\n",
       "      <th>587</th>\n",
       "      <td>284 Tranquilo2 (17Â·6 m cutter) Netherlands9 B...</td>\n",
       "      <td>2017</td>\n",
       "    </tr>\n",
       "    <tr>\n",
       "      <th>588</th>\n",
       "      <td>285 Valentina (15Â·2 m sloop) Russia26 Sergei ...</td>\n",
       "      <td>2017</td>\n",
       "    </tr>\n",
       "    <tr>\n",
       "      <th>589</th>\n",
       "      <td>286 Xue Long (icebreaker) China (Beijing) Shen...</td>\n",
       "      <td>2017</td>\n",
       "    </tr>\n",
       "    <tr>\n",
       "      <th>590</th>\n",
       "      <td>287 Zulumbus (11Â·7 m yacht) Austria5 Bernhard...</td>\n",
       "      <td>2017</td>\n",
       "    </tr>\n",
       "  </tbody>\n",
       "</table>\n",
       "<p>591 rows × 2 columns</p>\n",
       "</div>"
      ],
      "text/plain": [
       "                                                Visits     Year\n",
       "0                                                  NaN      NaN\n",
       "1                                                  NaN  1903-06\n",
       "2    1 GjÃ¸a (21 m auxiliary sloop) Norway1 Roald E...  1903-06\n",
       "3                                                  NaN  1903-06\n",
       "4                                                  NaN  1903-06\n",
       "5                                                  NaN  1940-42\n",
       "6    2 St Roch1 (29Â·7 m auxiliary schooner) Canada...  1940-42\n",
       "7                                                  NaN  1940-42\n",
       "8                                                  NaN  1940-42\n",
       "9                                                  NaN     1944\n",
       "10   3 St Roch2 (29Â·7 m auxiliary schooner) Canada...     1944\n",
       "11                                                 NaN     1944\n",
       "12                                                 NaN     1944\n",
       "13                                                 NaN     1954\n",
       "14   4 HMCS Labrador (icebreaker) Canada3 Owen Conn...     1954\n",
       "15                                                 NaN     1954\n",
       "16                                                 NaN     1954\n",
       "17                                                 NaN     1957\n",
       "18   5 USCGC Bramble (buoy tender) UnitedStates1 He...     1957\n",
       "19   6 USCGC Spar (buoy tender) UnitedStates2 Charl...     1957\n",
       "20   7 USCGC Storis (icebreaker) UnitedStates3 Haro...     1957\n",
       "21                                                 NaN     1957\n",
       "22                                                 NaN     1957\n",
       "23                                                 NaN     1967\n",
       "24   8 CCGS John A. McDonald (icebreaker) Canada4 P...     1967\n",
       "25                                                 NaN     1967\n",
       "26                                                 NaN     1967\n",
       "27                                                 NaN     1969\n",
       "28   9 USCGC Northwind1 (icebreaker) UnitedStates4 ...     1969\n",
       "29   10 USCGC Northwind2 (icebreaker) UnitedStates5...     1969\n",
       "..                                                 ...      ...\n",
       "561  266 Kigdlua (12Â·8 m sloop) Greenland Jens Eri...     2017\n",
       "562  267 Lady Free (12Â·4 m gaff cutter) Norway4 Ja...     2017\n",
       "563                                                NaN     2017\n",
       "564  268 Larissa (13Â·7 m cutter) NewZealand6 Mark ...     2017\n",
       "565  269 Le Boreal2 (cruise vessel) France27 Erwin ...     2017\n",
       "566                                                NaN     2017\n",
       "567  270 Le Why (20 m schooner) France28 Ghisiain B...     2017\n",
       "568  271 Ma Louloutte (6Â·3 catamaran)  France29 Yv...     2017\n",
       "569                                                NaN     2017\n",
       "570  272 MakorÃ© 2 (13Â·6 m yacht) France30 Paul Bu...     2017\n",
       "571  273 USCGC Maple (buoy tender) UnitedStates31 P...     2017\n",
       "572                                                NaN     2017\n",
       "573  274 Morning Haze (16Â·9 m sloop) Germany8 Joch...     2017\n",
       "574  275 Muktuk2 (14Â·3 sloop) Austria4 Karl Mayer2...     2017\n",
       "575  276 Nauta D (16Â·5 m yacht) Germany9 Manfred H...     2017\n",
       "576  277 Nehaj (11Â·9 m cutter) Germany10 Susanne H...     2017\n",
       "577                                                NaN     2017\n",
       "578  278 Nordica2 (multipurpose icebreaker) Finland...     2017\n",
       "579                                                NaN     2017\n",
       "580  279 Plum (21Â·9 m cutter) Malta Enrico Tettama...     2017\n",
       "581                                                NaN     2017\n",
       "582  280 Polar Bound7 (14Â·6 m motor boat) Britain2...     2017\n",
       "583  281 Polar Prince2 (icebreaker) Canada47 Stepha...     2017\n",
       "584                                                NaN     2017\n",
       "585  282 Tiama (15Â·2 m sloop) NewZealand7 Hank Haa...     2017\n",
       "586  283 Tonga (13Â·8 m yacht) France31 Franck Dela...     2017\n",
       "587  284 Tranquilo2 (17Â·6 m cutter) Netherlands9 B...     2017\n",
       "588  285 Valentina (15Â·2 m sloop) Russia26 Sergei ...     2017\n",
       "589  286 Xue Long (icebreaker) China (Beijing) Shen...     2017\n",
       "590  287 Zulumbus (11Â·7 m yacht) Austria5 Bernhard...     2017\n",
       "\n",
       "[591 rows x 2 columns]"
      ]
     },
     "execution_count": 441,
     "metadata": {},
     "output_type": "execute_result"
    }
   ],
   "source": [
    "df_year_visits['Year'] = df_year_visits['Year'].ffill()\n",
    "df_year_visits"
   ]
  },
  {
   "cell_type": "code",
   "execution_count": 442,
   "metadata": {},
   "outputs": [
    {
     "name": "stdout",
     "output_type": "stream",
     "text": [
      "                                               Visits     Year\n",
      "2   1 GjÃ¸a (21 m auxiliary sloop) Norway1 Roald E...  1903-06\n",
      "6   2 St Roch1 (29Â·7 m auxiliary schooner) Canada...  1940-42\n",
      "10  3 St Roch2 (29Â·7 m auxiliary schooner) Canada...     1944\n",
      "14  4 HMCS Labrador (icebreaker) Canada3 Owen Conn...     1954\n",
      "18  5 USCGC Bramble (buoy tender) UnitedStates1 He...     1957\n",
      "19  6 USCGC Spar (buoy tender) UnitedStates2 Charl...     1957\n",
      "20  7 USCGC Storis (icebreaker) UnitedStates3 Haro...     1957\n",
      "24  8 CCGS John A. McDonald (icebreaker) Canada4 P...     1967\n",
      "28  9 USCGC Northwind1 (icebreaker) UnitedStates4 ...     1969\n",
      "29  10 USCGC Northwind2 (icebreaker) UnitedStates5...     1969\n",
      "283\n"
     ]
    }
   ],
   "source": [
    "#drop na removes the rows where contains NA. (actually condition based on columns)\n",
    "df_year_visits_cleaned = df_year_visits.dropna(axis=0)\n",
    "print(df_year_visits_cleaned[:10])\n",
    "print(len(df_year_visits_cleaned))"
   ]
  },
  {
   "cell_type": "markdown",
   "metadata": {},
   "source": [
    "##### Method 2 instead of drop NA\n",
    "df_year_visits[pd.notnull(df_year_visits['Visits'])]"
   ]
  },
  {
   "cell_type": "code",
   "execution_count": 443,
   "metadata": {},
   "outputs": [],
   "source": [
    "#reset the index of df_year_visits_cleaned\n",
    "df_year_visits_cleaned.reset_index(inplace=True)"
   ]
  },
  {
   "cell_type": "code",
   "execution_count": 444,
   "metadata": {},
   "outputs": [
    {
     "data": {
      "text/plain": [
       "RangeIndex(start=0, stop=283, step=1)"
      ]
     },
     "execution_count": 444,
     "metadata": {},
     "output_type": "execute_result"
    }
   ],
   "source": [
    "df_year_visits_cleaned.index"
   ]
  },
  {
   "cell_type": "code",
   "execution_count": 445,
   "metadata": {},
   "outputs": [
    {
     "data": {
      "text/plain": [
       "RangeIndex(start=0, stop=283, step=1)"
      ]
     },
     "execution_count": 445,
     "metadata": {},
     "output_type": "execute_result"
    }
   ],
   "source": [
    "df.index"
   ]
  },
  {
   "cell_type": "code",
   "execution_count": 446,
   "metadata": {},
   "outputs": [],
   "source": [
    "df.loc[:,'Year'] = df_year_visits_cleaned['Year']"
   ]
  },
  {
   "cell_type": "markdown",
   "metadata": {},
   "source": [
    "##### Method 2 to combine dataFrames\n",
    "pd.concat([df,df_year_visits_cleaned['Year']],axis = 1)"
   ]
  },
  {
   "cell_type": "code",
   "execution_count": 455,
   "metadata": {},
   "outputs": [],
   "source": [
    "df.to_csv('test_result_of_step1.csv')"
   ]
  },
  {
   "cell_type": "code",
   "execution_count": null,
   "metadata": {},
   "outputs": [],
   "source": []
  }
 ],
 "metadata": {
  "kernelspec": {
   "display_name": "Python 3",
   "language": "python",
   "name": "python3"
  },
  "language_info": {
   "codemirror_mode": {
    "name": "ipython",
    "version": 3
   },
   "file_extension": ".py",
   "mimetype": "text/x-python",
   "name": "python",
   "nbconvert_exporter": "python",
   "pygments_lexer": "ipython3",
   "version": "3.6.0"
  }
 },
 "nbformat": 4,
 "nbformat_minor": 2
}
