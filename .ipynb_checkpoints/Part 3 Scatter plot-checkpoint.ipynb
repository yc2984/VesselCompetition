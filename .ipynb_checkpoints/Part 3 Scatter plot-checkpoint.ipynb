{
 "cells": [
  {
   "cell_type": "code",
   "execution_count": 1,
   "metadata": {},
   "outputs": [
    {
     "data": {
      "text/html": [
       "<div>\n",
       "<style scoped>\n",
       "    .dataframe tbody tr th:only-of-type {\n",
       "        vertical-align: middle;\n",
       "    }\n",
       "\n",
       "    .dataframe tbody tr th {\n",
       "        vertical-align: top;\n",
       "    }\n",
       "\n",
       "    .dataframe thead th {\n",
       "        text-align: right;\n",
       "    }\n",
       "</style>\n",
       "<table border=\"1\" class=\"dataframe\">\n",
       "  <thead>\n",
       "    <tr style=\"text-align: right;\">\n",
       "      <th></th>\n",
       "      <th>Number</th>\n",
       "      <th>Type</th>\n",
       "      <th>country</th>\n",
       "      <th>name</th>\n",
       "      <th>routes</th>\n",
       "      <th>Year</th>\n",
       "      <th>L(m)</th>\n",
       "      <th>Unnamed: 7</th>\n",
       "      <th>Unnamed: 8</th>\n",
       "      <th>Unnamed: 9</th>\n",
       "    </tr>\n",
       "  </thead>\n",
       "  <tbody>\n",
       "    <tr>\n",
       "      <th>0</th>\n",
       "      <td>1</td>\n",
       "      <td>21 m auxiliary sloop</td>\n",
       "      <td>Norway</td>\n",
       "      <td>GjÃ¸a</td>\n",
       "      <td>West 4</td>\n",
       "      <td>1903-06</td>\n",
       "      <td>21.0</td>\n",
       "      <td>NaN</td>\n",
       "      <td>1</td>\n",
       "      <td>True</td>\n",
       "    </tr>\n",
       "    <tr>\n",
       "      <th>1</th>\n",
       "      <td>2</td>\n",
       "      <td>29Â·7 m auxiliary schooner</td>\n",
       "      <td>Canada</td>\n",
       "      <td>St Roch1</td>\n",
       "      <td>East  6</td>\n",
       "      <td>1940-42</td>\n",
       "      <td>29.0</td>\n",
       "      <td>NaN</td>\n",
       "      <td>2</td>\n",
       "      <td>True</td>\n",
       "    </tr>\n",
       "    <tr>\n",
       "      <th>2</th>\n",
       "      <td>3</td>\n",
       "      <td>29Â·7 m auxiliary schooner</td>\n",
       "      <td>Canada</td>\n",
       "      <td>St Roch2</td>\n",
       "      <td>West 2</td>\n",
       "      <td>1944</td>\n",
       "      <td>29.0</td>\n",
       "      <td>NaN</td>\n",
       "      <td>3</td>\n",
       "      <td>True</td>\n",
       "    </tr>\n",
       "    <tr>\n",
       "      <th>3</th>\n",
       "      <td>4</td>\n",
       "      <td>icebreaker</td>\n",
       "      <td>Canada</td>\n",
       "      <td>HMCS Labrador</td>\n",
       "      <td>West 2</td>\n",
       "      <td>1954</td>\n",
       "      <td>82.0</td>\n",
       "      <td>NaN</td>\n",
       "      <td>4</td>\n",
       "      <td>True</td>\n",
       "    </tr>\n",
       "    <tr>\n",
       "      <th>4</th>\n",
       "      <td>5</td>\n",
       "      <td>buoy tender</td>\n",
       "      <td>United States</td>\n",
       "      <td>USCGC Bramble</td>\n",
       "      <td>East  6</td>\n",
       "      <td>1957</td>\n",
       "      <td>55.0</td>\n",
       "      <td>NaN</td>\n",
       "      <td>5</td>\n",
       "      <td>True</td>\n",
       "    </tr>\n",
       "    <tr>\n",
       "      <th>5</th>\n",
       "      <td>6</td>\n",
       "      <td>buoy tender</td>\n",
       "      <td>United States</td>\n",
       "      <td>USCGC Spar</td>\n",
       "      <td>East  6</td>\n",
       "      <td>1957</td>\n",
       "      <td>14.0</td>\n",
       "      <td>NaN</td>\n",
       "      <td>6</td>\n",
       "      <td>True</td>\n",
       "    </tr>\n",
       "    <tr>\n",
       "      <th>6</th>\n",
       "      <td>7</td>\n",
       "      <td>icebreaker</td>\n",
       "      <td>United States</td>\n",
       "      <td>USCGC Storis</td>\n",
       "      <td>East  6</td>\n",
       "      <td>1957</td>\n",
       "      <td>70.0</td>\n",
       "      <td>NaN</td>\n",
       "      <td>7</td>\n",
       "      <td>True</td>\n",
       "    </tr>\n",
       "    <tr>\n",
       "      <th>7</th>\n",
       "      <td>8</td>\n",
       "      <td>icebreaker</td>\n",
       "      <td>Canada</td>\n",
       "      <td>CCGS John A. McDonald</td>\n",
       "      <td>West 3</td>\n",
       "      <td>1967</td>\n",
       "      <td>96.0</td>\n",
       "      <td>NaN</td>\n",
       "      <td>8</td>\n",
       "      <td>True</td>\n",
       "    </tr>\n",
       "    <tr>\n",
       "      <th>8</th>\n",
       "      <td>9</td>\n",
       "      <td>icebreaker</td>\n",
       "      <td>United States</td>\n",
       "      <td>USCGC Northwind1</td>\n",
       "      <td>East  5</td>\n",
       "      <td>1969</td>\n",
       "      <td>82.0</td>\n",
       "      <td>NaN</td>\n",
       "      <td>9</td>\n",
       "      <td>True</td>\n",
       "    </tr>\n",
       "    <tr>\n",
       "      <th>9</th>\n",
       "      <td>10</td>\n",
       "      <td>icebreaker</td>\n",
       "      <td>United States</td>\n",
       "      <td>USCGC Northwind2</td>\n",
       "      <td>West 3</td>\n",
       "      <td>1969</td>\n",
       "      <td>82.0</td>\n",
       "      <td>NaN</td>\n",
       "      <td>10</td>\n",
       "      <td>True</td>\n",
       "    </tr>\n",
       "    <tr>\n",
       "      <th>10</th>\n",
       "      <td>11</td>\n",
       "      <td>icebreaker</td>\n",
       "      <td>United States</td>\n",
       "      <td>USCGC Staten Island</td>\n",
       "      <td>East  2</td>\n",
       "      <td>1969</td>\n",
       "      <td>82.0</td>\n",
       "      <td>NaN</td>\n",
       "      <td>11</td>\n",
       "      <td>True</td>\n",
       "    </tr>\n",
       "    <tr>\n",
       "      <th>11</th>\n",
       "      <td>12</td>\n",
       "      <td>research icebreaker</td>\n",
       "      <td>Canada</td>\n",
       "      <td>CSS Baffin</td>\n",
       "      <td>East  2</td>\n",
       "      <td>1970</td>\n",
       "      <td>NaN</td>\n",
       "      <td>NaN</td>\n",
       "      <td>12</td>\n",
       "      <td>True</td>\n",
       "    </tr>\n",
       "    <tr>\n",
       "      <th>12</th>\n",
       "      <td>13</td>\n",
       "      <td>research icebreaker</td>\n",
       "      <td>Canada</td>\n",
       "      <td>CSS Hudson1</td>\n",
       "      <td>East  2</td>\n",
       "      <td>1970</td>\n",
       "      <td>90.0</td>\n",
       "      <td>NaN</td>\n",
       "      <td>13</td>\n",
       "      <td>True</td>\n",
       "    </tr>\n",
       "    <tr>\n",
       "      <th>13</th>\n",
       "      <td>14</td>\n",
       "      <td>hydrographic vessel</td>\n",
       "      <td>Canada</td>\n",
       "      <td>Pandora II1</td>\n",
       "      <td>East  7</td>\n",
       "      <td>1975</td>\n",
       "      <td>NaN</td>\n",
       "      <td>NaN</td>\n",
       "      <td>14</td>\n",
       "      <td>True</td>\n",
       "    </tr>\n",
       "    <tr>\n",
       "      <th>14</th>\n",
       "      <td>15</td>\n",
       "      <td>research vessel</td>\n",
       "      <td>Canada</td>\n",
       "      <td>Theta</td>\n",
       "      <td>East  7</td>\n",
       "      <td>1975</td>\n",
       "      <td>NaN</td>\n",
       "      <td>NaN</td>\n",
       "      <td>15</td>\n",
       "      <td>True</td>\n",
       "    </tr>\n",
       "  </tbody>\n",
       "</table>\n",
       "</div>"
      ],
      "text/plain": [
       "    Number                        Type        country                   name  \\\n",
       "0        1        21 m auxiliary sloop         Norway                  GjÃ¸a   \n",
       "1        2  29Â·7 m auxiliary schooner         Canada               St Roch1   \n",
       "2        3  29Â·7 m auxiliary schooner         Canada               St Roch2   \n",
       "3        4                  icebreaker         Canada          HMCS Labrador   \n",
       "4        5                 buoy tender  United States          USCGC Bramble   \n",
       "5        6                 buoy tender  United States             USCGC Spar   \n",
       "6        7                  icebreaker  United States           USCGC Storis   \n",
       "7        8                  icebreaker         Canada  CCGS John A. McDonald   \n",
       "8        9                  icebreaker  United States       USCGC Northwind1   \n",
       "9       10                  icebreaker  United States       USCGC Northwind2   \n",
       "10      11                  icebreaker  United States    USCGC Staten Island   \n",
       "11      12         research icebreaker         Canada             CSS Baffin   \n",
       "12      13         research icebreaker         Canada            CSS Hudson1   \n",
       "13      14         hydrographic vessel         Canada            Pandora II1   \n",
       "14      15             research vessel         Canada                  Theta   \n",
       "\n",
       "     routes     Year  L(m)  Unnamed: 7  Unnamed: 8  Unnamed: 9  \n",
       "0    West 4  1903-06  21.0         NaN           1        True  \n",
       "1   East  6  1940-42  29.0         NaN           2        True  \n",
       "2    West 2     1944  29.0         NaN           3        True  \n",
       "3    West 2     1954  82.0         NaN           4        True  \n",
       "4   East  6     1957  55.0         NaN           5        True  \n",
       "5   East  6     1957  14.0         NaN           6        True  \n",
       "6   East  6     1957  70.0         NaN           7        True  \n",
       "7    West 3     1967  96.0         NaN           8        True  \n",
       "8   East  5     1969  82.0         NaN           9        True  \n",
       "9    West 3     1969  82.0         NaN          10        True  \n",
       "10  East  2     1969  82.0         NaN          11        True  \n",
       "11  East  2     1970   NaN         NaN          12        True  \n",
       "12  East  2     1970  90.0         NaN          13        True  \n",
       "13  East  7     1975   NaN         NaN          14        True  \n",
       "14  East  7     1975   NaN         NaN          15        True  "
      ]
     },
     "execution_count": 1,
     "metadata": {},
     "output_type": "execute_result"
    }
   ],
   "source": [
    "import string\n",
    "import pandas as pd\n",
    "import numpy as np\n",
    "import matplotlib.pyplot as plt\n",
    "%matplotlib inline\n",
    "#using the manually filled excel sheet, cause there're 7 vessels missing.\n",
    "s3 = 'part3.csv'\n",
    "printable = set(string.printable)\n",
    "filter(lambda x: x in printable,s3)\n",
    "df_more_length_info = pd.read_csv(s3)\n",
    "\n",
    "df_more_length_info.head(15)"
   ]
  },
  {
   "cell_type": "code",
   "execution_count": 2,
   "metadata": {},
   "outputs": [
    {
     "name": "stdout",
     "output_type": "stream",
     "text": [
      "<class 'pandas.core.frame.DataFrame'>\n",
      "RangeIndex: 287 entries, 0 to 286\n",
      "Data columns (total 10 columns):\n",
      "Number        287 non-null int64\n",
      "Type          287 non-null object\n",
      "country       287 non-null object\n",
      "name          287 non-null object\n",
      "routes        287 non-null object\n",
      "Year          287 non-null object\n",
      "L(m)          275 non-null float64\n",
      "Unnamed: 7    0 non-null float64\n",
      "Unnamed: 8    287 non-null int64\n",
      "Unnamed: 9    287 non-null bool\n",
      "dtypes: bool(1), float64(2), int64(2), object(5)\n",
      "memory usage: 20.5+ KB\n"
     ]
    }
   ],
   "source": [
    "df_more_length_info.info()"
   ]
  },
  {
   "cell_type": "code",
   "execution_count": 10,
   "metadata": {},
   "outputs": [
    {
     "data": {
      "text/plain": [
       "0    1903\n",
       "1    1940\n",
       "2    1944\n",
       "3    1954\n",
       "4    1957\n",
       "5    1957\n",
       "6    1957\n",
       "7    1967\n",
       "8    1969\n",
       "9    1969\n",
       "Name: Year_num, dtype: int64"
      ]
     },
     "execution_count": 10,
     "metadata": {},
     "output_type": "execute_result"
    }
   ],
   "source": [
    "#convert the type of year to float or datetime\n",
    "df_more_length_info['Year_num'] = [int(x[:4]) for x in df_more_length_info['Year']]\n",
    "df_more_length_info['Year_num'][:10]"
   ]
  },
  {
   "cell_type": "code",
   "execution_count": 12,
   "metadata": {},
   "outputs": [
    {
     "data": {
      "text/plain": [
       "0     1903-01-01\n",
       "1     1940-01-01\n",
       "2     1944-01-01\n",
       "3     1954-01-01\n",
       "4     1957-01-01\n",
       "5     1957-01-01\n",
       "6     1957-01-01\n",
       "7     1967-01-01\n",
       "8     1969-01-01\n",
       "9     1969-01-01\n",
       "10    1969-01-01\n",
       "11    1970-01-01\n",
       "12    1970-01-01\n",
       "13    1975-01-01\n",
       "14    1975-01-01\n",
       "15    1975-01-01\n",
       "16    1976-01-01\n",
       "17    1977-01-01\n",
       "18    1978-01-01\n",
       "19    1976-01-01\n",
       "20    1979-01-01\n",
       "21    1979-01-01\n",
       "22    1980-01-01\n",
       "23    1980-01-01\n",
       "24    1981-01-01\n",
       "25    1979-01-01\n",
       "26    1983-01-01\n",
       "27    1983-01-01\n",
       "28    1984-01-01\n",
       "29    1985-01-01\n",
       "         ...    \n",
       "257   2017-01-01\n",
       "258   2017-01-01\n",
       "259   2017-01-01\n",
       "260   2017-01-01\n",
       "261   2017-01-01\n",
       "262   2017-01-01\n",
       "263   2017-01-01\n",
       "264   2017-01-01\n",
       "265   2017-01-01\n",
       "266   2017-01-01\n",
       "267   2017-01-01\n",
       "268   2017-01-01\n",
       "269   2017-01-01\n",
       "270   2017-01-01\n",
       "271   2017-01-01\n",
       "272   2017-01-01\n",
       "273   2017-01-01\n",
       "274   2017-01-01\n",
       "275   2017-01-01\n",
       "276   2017-01-01\n",
       "277   2017-01-01\n",
       "278   2017-01-01\n",
       "279   2017-01-01\n",
       "280   2017-01-01\n",
       "281   2017-01-01\n",
       "282   2017-01-01\n",
       "283   2017-01-01\n",
       "284   2017-01-01\n",
       "285   2017-01-01\n",
       "286   2017-01-01\n",
       "Name: Datetime, Length: 287, dtype: datetime64[ns]"
      ]
     },
     "execution_count": 12,
     "metadata": {},
     "output_type": "execute_result"
    }
   ],
   "source": [
    "import datetime\n",
    "df_more_length_info['Datetime'] = df_more_length_info['Year_num'].apply(lambda x: pd.to_datetime(x,format='%Y'))\n",
    "df_more_length_info['Datetime']"
   ]
  },
  {
   "cell_type": "code",
   "execution_count": null,
   "metadata": {},
   "outputs": [],
   "source": [
    "df_more_length_info.groupby('Year')['Year_number']"
   ]
  },
  {
   "cell_type": "code",
   "execution_count": 13,
   "metadata": {
    "scrolled": false
   },
   "outputs": [
    {
     "data": {
      "text/plain": [
       "<matplotlib.collections.PathCollection at 0x1c35d908>"
      ]
     },
     "execution_count": 13,
     "metadata": {},
     "output_type": "execute_result"
    },
    {
     "data": {
      "image/png": "[encoded data removed]",
      "text/plain": [
       "<matplotlib.figure.Figure at 0x1779f400>"
      ]
     },
     "metadata": {},
     "output_type": "display_data"
    }
   ],
   "source": [
    "plt.scatter(df_more_length_info['Year_num'],df_more_length_info['L(m)'])"
   ]
  },
  {
   "cell_type": "code",
   "execution_count": 20,
   "metadata": {},
   "outputs": [
    {
     "data": {
      "text/plain": [
       "<matplotlib.axes._subplots.AxesSubplot at 0x1c431ba8>"
      ]
     },
     "execution_count": 20,
     "metadata": {},
     "output_type": "execute_result"
    },
    {
     "data": {
      "image/png": "[encoded data removed]",
      "text/plain": [
       "<matplotlib.figure.Figure at 0x1ca229e8>"
      ]
     },
     "metadata": {},
     "output_type": "display_data"
    }
   ],
   "source": [
    "df_more_length_info['L(m)'].plot.box(title='DIstribution of vessel length',figsize=(16,8))\n",
    "#plt.figsi"
   ]
  },
  {
   "cell_type": "code",
   "execution_count": 16,
   "metadata": {},
   "outputs": [
    {
     "data": {
      "text/plain": [
       "count    275.00000\n",
       "mean      56.20240\n",
       "std       53.43338\n",
       "min        6.00000\n",
       "25%       14.00000\n",
       "50%       21.00000\n",
       "75%      111.51000\n",
       "max      250.00000\n",
       "Name: L(m), dtype: float64"
      ]
     },
     "execution_count": 16,
     "metadata": {},
     "output_type": "execute_result"
    }
   ],
   "source": [
    "df_more_length_info['L(m)'].describe()"
   ]
  },
  {
   "cell_type": "code",
   "execution_count": null,
   "metadata": {},
   "outputs": [],
   "source": []
  }
 ],
 "metadata": {
  "kernelspec": {
   "display_name": "Python 3",
   "language": "python",
   "name": "python3"
  },
  "language_info": {
   "codemirror_mode": {
    "name": "ipython",
    "version": 3
   },
   "file_extension": ".py",
   "mimetype": "text/x-python",
   "name": "python",
   "nbconvert_exporter": "python",
   "pygments_lexer": "ipython3",
   "version": "3.6.0"
  }
 },
 "nbformat": 4,
 "nbformat_minor": 2
}
